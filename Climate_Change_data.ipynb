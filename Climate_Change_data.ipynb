{
 "cells": [
  {
   "cell_type": "code",
   "execution_count": 7,
   "metadata": {},
   "outputs": [],
   "source": [
    "\n",
    "import pandas as pd\n",
    "import statsmodels\n",
    "import statsmodels.api as sm\n",
    "from statsmodels.formula.api import ols\n",
    "import tweepy\n",
    "import json\n",
    "import os\n",
    "from collections import Counter\n",
    "import numpy as np\n",
    "from collections import defaultdict\n",
    "from matplotlib import pyplot as plt\n",
    "import time\n",
    "from datetime import datetime\n",
    "from dateutil.parser import parse"
   ]
  },
  {
   "cell_type": "code",
   "execution_count": 24,
   "metadata": {},
   "outputs": [
    {
     "name": "stdout",
     "output_type": "stream",
     "text": [
      "done\n"
     ]
    }
   ],
   "source": [
    "# load tweets.json file\n",
    "def load_json(file_name):\n",
    "    result=[]\n",
    "    with open(file_name, 'r') as fp:\n",
    "        line=fp.readline()\n",
    "        while line:\n",
    "            tjson=json.loads(line) #decode json\n",
    "            result.append({\n",
    "                 \"Date\":tjson[\"created_at\"],\n",
    "                    \"id\":tjson[\"id_str\"],\n",
    "                 \"user_name\":tjson[\"user\"][\"name\"],\n",
    "                   \n",
    "                    \"favorite_count\":tjson[\"favorite_count\"], #number of favorites\n",
    "                    \"retweet_count\":tjson[\"retweet_count\"], #number of retweets\n",
    "                    \"user_id_str\":tjson[\"user\"][\"id_str\"],\n",
    "                \n",
    "                \n",
    "            })\n",
    "\n",
    "            line=fp.readline()\n",
    "    return result\n"
   ]
  },
  {
   "cell_type": "code",
   "execution_count": 29,
   "metadata": {},
   "outputs": [
    {
     "name": "stdout",
     "output_type": "stream",
     "text": [
      "done\n",
      "             Date                   id             user_name  favorite_count  \\\n",
      "0      2020-04-22  1252984488667361285     ECO-HEALTHY YOUTH               0   \n",
      "1      2020-04-22  1252984486159097858         edward fields               0   \n",
      "2      2020-04-22  1252984485680824321       elizabeth judge               0   \n",
      "3      2020-04-22  1252984484418420737       Scotch Partners               0   \n",
      "4      2020-04-22  1252984473127354368           PLinNigeria               0   \n",
      "...           ...                  ...                   ...             ...   \n",
      "79767  2020-04-14  1250196716697128963        Karolyn Schalk               0   \n",
      "79768  2020-04-14  1250196645532372992  Nick Reichert-Author               1   \n",
      "79769  2020-04-14  1250196612409933829     Brendan Wissinger               0   \n",
      "79770  2020-04-14  1250195677612634114               んひ丂刀ﾑ ♡               0   \n",
      "79771  2020-04-14  1250195625376956416                   Al😷               0   \n",
      "\n",
      "       retweet_count          user_id_str  \n",
      "0                  0  1246515315715997697  \n",
      "1                  0             81441122  \n",
      "2                  1             32410019  \n",
      "3                  0            627251554  \n",
      "4                  1            538826629  \n",
      "...              ...                  ...  \n",
      "79767              4            769653960  \n",
      "79768              2            797609485  \n",
      "79769            101   957005849544806405  \n",
      "79770            380  1048127011825143821  \n",
      "79771             30  1167608936821772289  \n",
      "\n",
      "[79772 rows x 6 columns]\n"
     ]
    }
   ],
   "source": [
    "data_list=load_json(\"tweets.json\")\n",
    "df=pd.DataFrame(data=data_list)\n",
    "print('done')\n",
    "#df = df.drop_duplicates(subset=['id'], keep=False)\n",
    "\n",
    "#converting date into more readable form \n",
    "Date_list= df[\"Date\"].values\n",
    "dates = []\n",
    "for date in Date_list:\n",
    "    dates.append(parse(date).date())\n",
    "df[\"Date\"]=dates\n",
    "print(df)"
   ]
  },
  {
   "cell_type": "code",
   "execution_count": 31,
   "metadata": {},
   "outputs": [
    {
     "name": "stdout",
     "output_type": "stream",
     "text": [
      "               id favorite_count retweet_count\n",
      "            count            sum           sum\n",
      "Date                                          \n",
      "2020-04-14    261            302         78392\n",
      "2020-04-15   7717          11854       1078744\n",
      "2020-04-16   8173          12127        781434\n",
      "2020-04-17   8652          13027        753467\n",
      "2020-04-18   6719          17419        432779\n",
      "2020-04-19   6771          10418        697365\n",
      "2020-04-20   9687          15123       1150229\n",
      "2020-04-21   9856          15031        788037\n",
      "2020-04-22  21936          34818       2586017\n"
     ]
    }
   ],
   "source": [
    "#groupby date\n",
    "group=df.groupby(by=[\"Date\"])\n",
    "new_df=group.aggregate({\n",
    "    \"id\":[\"count\"],\n",
    "    \"favorite_count\":[\"sum\"],\n",
    "    \"retweet_count\":[\"sum\"]\n",
    "})\n",
    "new_df.rename(columns={\"id_str\":\"tweet_count\"}, inplace=True)\n",
    "print(new_df)\n",
    "new_df.to_csv(\"climate_data.csv\", index=True)\n"
   ]
  }
 ],
 "metadata": {
  "kernelspec": {
   "display_name": "Python 3",
   "language": "python",
   "name": "python3"
  },
  "language_info": {
   "codemirror_mode": {
    "name": "ipython",
    "version": 3
   },
   "file_extension": ".py",
   "mimetype": "text/x-python",
   "name": "python",
   "nbconvert_exporter": "python",
   "pygments_lexer": "ipython3",
   "version": "3.7.4"
  }
 },
 "nbformat": 4,
 "nbformat_minor": 2
}
