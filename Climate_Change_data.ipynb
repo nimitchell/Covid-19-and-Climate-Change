{
 "cells": [
  {
   "cell_type": "code",
   "execution_count": 44,
   "metadata": {},
   "outputs": [],
   "source": [
    "\n",
    "import pandas as pd\n",
    "import statsmodels\n",
    "import statsmodels.api as sm\n",
    "from statsmodels.formula.api import ols\n",
    "import tweepy\n",
    "import json\n",
    "import os\n",
    "from collections import Counter\n",
    "import numpy as np\n",
    "from collections import defaultdict\n",
    "from matplotlib import pyplot as plt\n",
    "import time\n",
    "from datetime import datetime\n",
    "from dateutil.parser import parse"
   ]
  },
  {
   "cell_type": "code",
   "execution_count": 45,
   "metadata": {},
   "outputs": [],
   "source": [
    "# load tweets.json file\n",
    "def load_json(file_name):\n",
    "    result=[]\n",
    "    with open(file_name, 'r') as fp:\n",
    "        line=fp.readline()\n",
    "        while line:\n",
    "            tjson=json.loads(line) #decode json\n",
    "            result.append({\n",
    "                 \"Date\":tjson[\"created_at\"],\n",
    "                \"id\":tjson[\"id_str\"],\n",
    "                 \"user_name\":tjson[\"user\"][\"name\"],\n",
    "                   \n",
    "                    \"favorite_count\":tjson[\"favorite_count\"], #number of favorites\n",
    "                    \"retweet_count\":tjson[\"retweet_count\"], #number of retweets\n",
    "                    \"user_id_str\":tjson[\"user\"][\"id_str\"],\n",
    "                \n",
    "                \n",
    "            })\n",
    "\n",
    "            line=fp.readline()\n",
    "    return result\n",
    "\n",
    "# load tweets.json file\n",
    "def load_old_json(file_name):\n",
    "    result=[]\n",
    "    with open(file_name, 'r') as fp:\n",
    "        line=fp.readline()\n",
    "        while line:\n",
    "            tjson=json.loads(line) #decode json\n",
    "            result.append({\n",
    "                \"Date\":tjson[\"Date\"],\n",
    "                \"id\":tjson[\"id\"],\n",
    "                \"favorite_count\":tjson[\"favorite_count\"], #number of favorites\n",
    "                \"retweet_count\":tjson[\"retweet_count\"], #number of retweets\n",
    "                \"text\":tjson[\"text\"]\n",
    "            })\n",
    "            line=fp.readline()\n",
    "    return result\n"
   ]
  },
  {
   "cell_type": "code",
   "execution_count": 46,
   "metadata": {},
   "outputs": [
    {
     "name": "stdout",
     "output_type": "stream",
     "text": [
      "done\n",
      "              Date                   id  favorite_count  retweet_count  \\\n",
      "0       2020-01-22  1220134040705142789              18             17   \n",
      "1       2020-01-22  1220134028906463235               0              1   \n",
      "2       2020-01-22  1220133978046259200               3              2   \n",
      "3       2020-01-22  1220133958094151680               0              0   \n",
      "4       2020-01-22  1220133790346956800               3              0   \n",
      "...            ...                  ...             ...            ...   \n",
      "271112  2020-04-02  1245501262226915334               0              0   \n",
      "271113  2020-04-02  1245501257780994055               3              4   \n",
      "271114  2020-04-02  1245501252018024454               4              3   \n",
      "271115  2020-04-02  1245501201552150531               2              0   \n",
      "271116  2020-04-02  1245501196518879233               2              2   \n",
      "\n",
      "                                                     text  \n",
      "0       AGW GREEN WARRIORS CENSOR 1st Amendment Free S...  \n",
      "1       Urban Flooding - Rainfall hasn't increased, so...  \n",
      "2       Asm. @RobBonta introduced #AB1839, the #CAGree...  \n",
      "3       How do you like my new t-shirt? I hope the wor...  \n",
      "4       Sen. @CoryBooker: 'The U.S. won't solve #clima...  \n",
      "...                                                   ...  \n",
      "271112  @JamesMeroney Hi, I see you are interested in ...  \n",
      "271113  Please Support Us, Please Donate! Video: https...  \n",
      "271114  Will COVID-19 restrictions reduce air #polluti...  \n",
      "271115  BTW:Let I sum up ideas your brand promoted,#Vi...  \n",
      "271116  Net operational savings from [ProjectDrawdown ...  \n",
      "\n",
      "[271117 rows x 5 columns]\n"
     ]
    }
   ],
   "source": [
    "#data_list=load_json(\"tweets.json\")\n",
    "data_list=load_old_json(\"old_tweets.json\")\n",
    "df=pd.DataFrame(data=data_list)\n",
    "print('done')\n",
    "#df = df.drop_duplicates(subset=['id'], keep=False)\n",
    "\n",
    "#converting date into more readable form \n",
    "Date_list= df[\"Date\"].values\n",
    "dates = []\n",
    "for date in Date_list:\n",
    "    dates.append(parse(date).date())\n",
    "df[\"Date\"]=dates\n",
    "print(df)"
   ]
  },
  {
   "cell_type": "code",
   "execution_count": null,
   "metadata": {},
   "outputs": [],
   "source": [
    "### Sentiment Analysis\n",
    "from vaderSentiment.vaderSentiment import SentimentIntensityAnalyzer \n",
    "\n",
    "SIA = SentimentIntensityAnalyzer()\n",
    "sentiments = []\n",
    "for t in df[\"text\"].values:\n",
    "    sentiment_dict = SIA.polarity_scores(t)\n",
    "    \n",
    "    # decide sentiment as positive, negative and neutral \n",
    "    if sentiment_dict['compound'] >= 0.05 : \n",
    "        sentiments.append(\"Positive\") \n",
    "        \n",
    "    elif sentiment_dict['compound'] <= - 0.05 : \n",
    "        sentiments.append(\"Negative\") \n",
    "    else :\n",
    "        sentiments.append(\"Neutral\")\n",
    "        \n",
    "df[\"sentiment\"]= sentiments\n",
    "\n",
    "def count_pos(series):\n",
    "    return len([x for x in series if x==\"Positive\"])\n",
    "def count_neg(series):\n",
    "    return len([x for x in series if x==\"Negative\"])\n",
    "def count_nue(series):\n",
    "    return len([x for x in series if x==\"Neutral\"])\n",
    "\n",
    "df.to_csv(\"data_with_sent.csv\", index=True)\n"
   ]
  },
  {
   "cell_type": "code",
   "execution_count": 51,
   "metadata": {},
   "outputs": [
    {
     "name": "stdout",
     "output_type": "stream",
     "text": [
      "              id favorite_count retweet_count sentiment                    \n",
      "           count            sum           sum count_pos count_neg count_nue\n",
      "Date                                                                       \n",
      "2020-01-22  9504          49563         20441      5207      1928      2369\n",
      "2020-01-23  6427          43605         16548      2674      1744      2009\n",
      "2020-01-24  5840          46585         16407      2744      1446      1650\n",
      "2020-01-25  4194          39124         14920      2063       970      1161\n",
      "2020-01-26  3398          16882          7865      1472       850      1076\n",
      "...          ...            ...           ...       ...       ...       ...\n",
      "2020-03-28  1911          14566          5240       791       495       625\n",
      "2020-03-29  1585           7182          4709       556       502       527\n",
      "2020-03-30  2216           9481          4514       909       642       665\n",
      "2020-04-01  2470          12600          5783      1024       745       701\n",
      "2020-04-02  2766          11223          5240      1358       709       699\n",
      "\n",
      "[71 rows x 6 columns]\n"
     ]
    }
   ],
   "source": [
    "\n",
    "#groupby date\n",
    "group=df.groupby(by=[\"Date\"])\n",
    "new_df=group.aggregate({\n",
    "    \"id\":[\"count\"],\n",
    "    \"favorite_count\":[\"sum\"],\n",
    "    \"retweet_count\":[\"sum\"],\n",
    "    \"sentiment\":[count_pos, count_neg, count_nue]\n",
    "})\n",
    "new_df.rename(columns={\"id_str\":\"tweet_count\"}, inplace=True)\n",
    "print(new_df)\n",
    "new_df.to_csv(\"old_climate_data.csv\", index=True)\n"
   ]
  }
 ],
 "metadata": {
  "kernelspec": {
   "display_name": "Python 3",
   "language": "python",
   "name": "python3"
  },
  "language_info": {
   "codemirror_mode": {
    "name": "ipython",
    "version": 3
   },
   "file_extension": ".py",
   "mimetype": "text/x-python",
   "name": "python",
   "nbconvert_exporter": "python",
   "pygments_lexer": "ipython3",
   "version": "3.7.4"
  }
 },
 "nbformat": 4,
 "nbformat_minor": 2
}
