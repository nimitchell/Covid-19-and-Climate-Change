{
 "cells": [
  {
   "cell_type": "code",
   "execution_count": 2,
   "metadata": {},
   "outputs": [],
   "source": [
    "import pandas as pd\n",
    "import statsmodels.api as sm\n",
    "from statsmodels.formula.api import ols\n",
    "import numpy as np\n",
    "from matplotlib import pyplot as plt\n",
    "import random\n",
    "import math\n",
    "import json\n",
    "\n",
    "cases_file = 'time_series_covid19_confirmed_global.csv'\n",
    "deaths_file = 'time_series_covid19_deaths_global.csv'"
   ]
  },
  {
   "cell_type": "code",
   "execution_count": 62,
   "metadata": {},
   "outputs": [],
   "source": [
    "cases_df=pd.read_csv(cases_file)\n",
    "deaths_df = pd.read_csv(deaths_file)\n",
    "labels = ['cases', 'deaths']\n",
    "dfs = [cases_df, deaths_df]\n",
    "\n",
    "# group by day\n",
    "for i in range(len(dfs)):\n",
    "    #select unwanted rows\n",
    "    cols = dfs[i].columns[0:4]\n",
    "    #remove selected rows\n",
    "    dfs[i] = dfs[i].drop(cols, axis=1)\n",
    "    # transpose the dataframe\n",
    "    dfs[i] = dfs[i].T\n",
    "    # sum each row\n",
    "    dfs[i][f'total_{labels[i]}'] = dfs[i].sum(axis=1)\n",
    "    # add log totals\n",
    "    logs = []\n",
    "    for r in dfs[i].iterrows():\n",
    "        logs.append(math.log(r[1][f'total_{labels[i]}'], 10))\n",
    "    dfs[i][f'log_total_{labels[i]}'] = logs\n",
    "\n",
    "# join dfs\n",
    "result = pd.concat(dfs, axis=1, sort=False)\n",
    "# find important col names\n",
    "important_cols = [f'total_{l}' for l in labels] + [f'log_total_{l}' for l in labels]\n",
    "# save important info to csv\n",
    "result.to_csv('corona_data.csv', columns = important_cols)"
   ]
  }
 ],
 "metadata": {
  "kernelspec": {
   "display_name": "Python 3",
   "language": "python",
   "name": "python3"
  },
  "language_info": {
   "codemirror_mode": {
    "name": "ipython",
    "version": 3
   },
   "file_extension": ".py",
   "mimetype": "text/x-python",
   "name": "python",
   "nbconvert_exporter": "python",
   "pygments_lexer": "ipython3",
   "version": "3.7.4"
  }
 },
 "nbformat": 4,
 "nbformat_minor": 2
}
